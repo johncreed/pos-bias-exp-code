{
 "cells": [
  {
   "cell_type": "code",
   "execution_count": 1,
   "metadata": {},
   "outputs": [],
   "source": [
    "import csv\n",
    "\n",
    "# Field 1, 2\n",
    "field0 = [ 'artist_name' , 'genre_ids']\n",
    "all_fields = [field0]\n",
    "\n",
    "feat_dict = {}\n",
    "all_idx = [-1]\n",
    "\n",
    "\n",
    "def add_feat(key, value, field):\n",
    "    global all_idx\n",
    "    global feat_dict\n",
    "    real_key = \"{0}:{1}\".format(key, value)\n",
    "    if real_key in feat_dict:\n",
    "        return feat_dict[real_key]\n",
    "    all_idx[field] += 1\n",
    "    feat_dict[real_key] = all_idx[field]\n",
    "    return all_idx[field]\n",
    "\n",
    "def make_tuple(feat_list,field):\n",
    "    feat_str = [\"%d:1\" % i for i in feat_list]\n",
    "    fnc = lambda x: \"{}:{}\".format(int(field), x)\n",
    "    return list(map(fnc, feat_str))\n",
    "\n"
   ]
  },
  {
   "cell_type": "code",
   "execution_count": 3,
   "metadata": {},
   "outputs": [
    {
     "name": "stdout",
     "output_type": "stream",
     "text": [
      "['BIGBANG']\n",
      "['2022', '1259', '465', '444']\n",
      "['G.E.M.鄧紫棋']\n",
      "['109', 'nan', '1633', '125', '430', '451', '458', '1259', '1609', '94', '359', '139', '1568', '465']\n",
      "['aMEI (張惠妹)']\n",
      "['458', '465']\n",
      "['五月天 (Mayday)']\n",
      "['458', 'nan', '921', '465']\n",
      "['周杰倫 (Jay Chou)']\n",
      "['458', '1605', '465']\n",
      "['林俊傑 (JJ Lin)']\n",
      "['458', 'nan', '465']\n",
      "['玖壹壹']\n",
      "['458', '1259', '465']\n",
      "['田馥甄 (Hebe)']\n",
      "['458', 'nan', '465']\n",
      "['謝和弦 (R-chord)']\n",
      "['275', '2157', '2022', '1572', '465']\n",
      "['陳奕迅 (Eason Chan)']\n",
      "['451', '458', '1633', '465']\n",
      "[30]\n"
     ]
    }
   ],
   "source": [
    "of = open('item.ffm', 'w')\n",
    "rf = open('item.csv')\n",
    "for line in csv.DictReader(rf, delimiter=','):\n",
    "    # Key1\n",
    "    output = \"\"\n",
    "    for i, field_i in enumerate(all_fields):\n",
    "        feat_idx_list = []\n",
    "        for key in field_i:\n",
    "            if line[key] == \"\":\n",
    "                continue\n",
    "            values = line[key].split(\"|\")\n",
    "            print(values)\n",
    "            for val in values:\n",
    "                feat_idx_list.append(add_feat(key, val.strip(), i))\n",
    "        if len(output) != 0:\n",
    "            output = \"{} {}\".format(output,\" \".join(make_tuple(feat_idx_list, i)))\n",
    "        else:\n",
    "            output = \" \".join(make_tuple(feat_idx_list, i))\n",
    "\n",
    "    print( output, file=of )\n",
    "\n",
    "print(all_idx)"
   ]
  },
  {
   "cell_type": "code",
   "execution_count": null,
   "metadata": {},
   "outputs": [],
   "source": []
  }
 ],
 "metadata": {
  "kernelspec": {
   "display_name": "Python 3",
   "language": "python",
   "name": "python3"
  },
  "language_info": {
   "codemirror_mode": {
    "name": "ipython",
    "version": 3
   },
   "file_extension": ".py",
   "mimetype": "text/x-python",
   "name": "python",
   "nbconvert_exporter": "python",
   "pygments_lexer": "ipython3",
   "version": "3.6.8"
  }
 },
 "nbformat": 4,
 "nbformat_minor": 4
}
